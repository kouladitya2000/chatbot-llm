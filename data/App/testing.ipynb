{
 "cells": [
  {
   "cell_type": "code",
   "execution_count": 1,
   "metadata": {},
   "outputs": [],
   "source": [
    "import os\n",
    "import openai\n",
    "from dotenv import load_dotenv\n",
    "from langchain.chat_models import AzureChatOpenAI\n",
    "from langchain.embeddings import OpenAIEmbeddings\n",
    "from langchain.vectorstores import AzureSearch\n",
    "from langchain.document_loaders import DirectoryLoader\n",
    "from langchain.document_loaders import TextLoader\n",
    "from langchain.text_splitter import TokenTextSplitter\n",
    "from langchain.chains import ConversationalRetrievalChain\n",
    "from langchain.prompts import PromptTemplate\n",
    "from azure.search.documents.indexes.models import SearchableField, SimpleField, SearchFieldDataType"
   ]
  },
  {
   "cell_type": "code",
   "execution_count": 24,
   "metadata": {},
   "outputs": [],
   "source": [
    "# Load environment variables\n",
    "load_dotenv('.env')\n",
    "\n",
    "\n",
    "# Configure OpenAI API\n",
    "openai.api_type = \"azure\"\n",
    "openai.api_base = os.getenv('OPENAI_API_BASE')\n",
    "openai.api_key = os.getenv('OPENAI_API_KEY')\n",
    "openai.api_version = os.getenv('OPENAI_API_VERSION')\n",
    "\n",
    "\n",
    "# Initialize gpt-35-turbo and our embedding model\n",
    "llm = AzureChatOpenAI(deployment_name=\"htiOaiDEP\")\n",
    "embeddings = OpenAIEmbeddings(deployment_id=\"htiOaiDEPte\", chunk_size=10)\n",
    "\n",
    "\n"
   ]
  },
  {
   "cell_type": "code",
   "execution_count": 25,
   "metadata": {},
   "outputs": [],
   "source": [
    "# Connect to Azure Cognitive Search\n",
    "acs = AzureSearch(azure_search_endpoint=os.getenv('AZURE_COGNITIVE_SEARCH_SERVICE_NAME'),\n",
    "                 azure_search_key=os.getenv('AZURE_COGNITIVE_SEARCH_API_KEY'),\n",
    "                 index_name=os.getenv('AZURE_COGNITIVE_SEARCH_INDEX_NAME'),\n",
    "                 embedding_function=embeddings.embed_query)"
   ]
  },
  {
   "cell_type": "code",
   "execution_count": 26,
   "metadata": {},
   "outputs": [
    {
     "data": {
      "text/plain": [
       "['YTA4YTVkZDEtZGNjYi00MWEyLTk5YTktYzYzYjVhNDc3MTAz',\n",
       " 'NzU2ZTgxODEtMzcyOC00ODRlLThmYWMtMTAwZGUzMjI3YWE1',\n",
       " 'YjBhYmQwMzMtY2ZlMC00MmUwLWE5MDktNjFjYTE4NjIyZTRk',\n",
       " 'Y2NiODQ2ZjQtMjUzZC00ZTZlLWFhYzEtODA2MjBkOTQ5NDVk',\n",
       " 'ZjBhZGY3ODMtODM3OS00ZjhjLTg4NzAtNzdlOTVkYzUzNmU3']"
      ]
     },
     "execution_count": 26,
     "metadata": {},
     "output_type": "execute_result"
    }
   ],
   "source": [
    "loader = DirectoryLoader(\"C:\\\\Users\\\\acer\\\\OneDrive\\\\Desktop\\\\Final\\\\chatbot-llm\\\\data\\\\App\", glob=\"*.txt\", loader_cls=TextLoader, loader_kwargs={'autodetect_encoding': True})\n",
    "documents = loader.load()\n",
    "text_splitter = TokenTextSplitter(chunk_size=1000, chunk_overlap=0)\n",
    "docs = text_splitter.split_documents(documents)\n",
    "\n",
    "# Add documents to Azure Search\n",
    "acs.add_documents(documents=docs)\n",
    "\n"
   ]
  },
  {
   "cell_type": "code",
   "execution_count": 31,
   "metadata": {},
   "outputs": [],
   "source": [
    "# Adapt if needed\n",
    "CONDENSE_QUESTION_PROMPT = PromptTemplate.from_template(\"\"\"Given the following conversation and a follow up question, rephrase the follow up question to be a standalone question.\n",
    "\n",
    "Chat History:\n",
    "{chat_history}\n",
    "Follow Up Input: {question}\n",
    "Standalone question:\"\"\")\n",
    "\n",
    "qa = ConversationalRetrievalChain.from_llm(llm=llm,\n",
    "                                           retriever=acs.as_retriever(),\n",
    "                                           condense_question_prompt=CONDENSE_QUESTION_PROMPT,\n",
    "                                           return_source_documents=True,\n",
    "                                           verbose=False)\n"
   ]
  },
  {
   "cell_type": "code",
   "execution_count": 36,
   "metadata": {},
   "outputs": [
    {
     "name": "stdout",
     "output_type": "stream",
     "text": [
      "{'question': 'what is cricket?', 'chat_history': [], 'answer': 'Cricket is a team sport played between two teams of eleven players on a large oval-shaped field with a 22-yard long rectangular strip in the center, known as the pitch. The objective of the game is for one team to score more runs than the other team while the other team tries to prevent this and dismiss the opposing team. This is done by hitting a ball with a bat and running back and forth between the wickets, while the opposing team tries to field the ball and get the batter out. Cricket is a popular sport in many countries, particularly in the Commonwealth.', 'source_documents': [Document(page_content='\\nThis article is about the sport. For the insect, see Cricket (insect). For other uses, see Cricket (disambiguation).\\n\"Cricketer\" redirects here. For other uses, see Cricketer (disambiguation).\\nCricket\\n\\nShaun Pollock of South Africa bowls to Michael Hussey of Australia during the 2005 Boxing Day Test match at the Melbourne Cricket Ground\\nHighest governing body\\tInternational Cricket Council\\nFirst played\\t16th century; South East England\\nCharacteristics\\nContact\\tNo\\nTeam members\\t11 players per side (substitutes permitted in some circumstances)\\nMixed-sex\\tNo, separate competitions\\nType\\tTeam sport, Bat-and-Ball\\nEquipment\\tCricket ball, Cricket bat, Wicket (Stumps, Bails), Protective equipment\\nVenue\\tCricket field\\nGlossary\\tGlossary of cricket terms\\nPresence\\nCountry or region\\tWorldwide (most popular in the Commonwealth)\\nOlympic\\t1900 Summer Olympics\\nPart of a series on\\nCricket\\nCricket pictogram\\nWomen\\'s cricket\\nForms of cricket\\nTest cricket\\nMen\\'s formatWomen\\'s format\\nFirst-class cricket\\n\\nMen\\'s formatWomen\\'s format\\nOne Day International\\n\\nMen\\'s formatWomen\\'s format\\nLimited overs (domestic)\\n\\nLimited overs cricketList A cricket\\nTwenty20 International\\n\\nMen\\'s formatWomen\\'s format\\nTwenty20 (domestic)\\n\\nMen\\'s formatWomen\\'s format\\nOther forms\\n\\n100-ball cricketBackyard cricketBete-ombroBlind cricketClub cricketCrockerDeaf cricketFrench cricketIndoor cricket UK variantKilikitiPlaquitaSingle wicketT10 cricketTape ball cricketTennis ball cricketVigoroVillage cricket\\nInternational competitions\\nICC World Test ChampionshipICC Men\\'s Test Team RankingsCricket World CupWomen\\'s Cricket World CupICC Men\\'s T20 World CupICC Women\\'s T20 World CupICC Cricket World Cup League 2ICC Cricket World Cup Challenge LeagueEuro T20 SlamEast Africa Premier LeagueWorld Cricket League Africa Region\\nHistory of cricket\\nHistory of cricket to 1725History of cricket (1726â€“1750)History of cricket (1751â€“1775)History of cricket (1776â€“1800)History of cricket (1801â€“1825)History of women\\'s cricket\\nRecords\\nvte\\nPart of a series on\\nBowling techniques\\nFast bowling\\nSeamSwing\\nSpin bowling\\nFinger off spinleft-arm orthodox\\nWrist leg spinleft-arm unorthodox\\nFast bowler deliveries\\nBouncerInswingerKnuckle ballLeg cutterOff cutterOutswingerReverse swingSlower ballYorker\\nSpin bowler deliveries\\nArm ballCarrom ballDoosraFlipperGooglyLeg breakOff breakSliderTeesraTopspinner\\nvte\\nCricket is a bat-and-ball game played between two teams of eleven players on a field at the centre of which is a 22-yard (20-metre) pitch with a wicket at each end, each comprising two bails balanced on three stumps. The batting side scores runs by striking the ball bowled at one of the wickets with the bat and then running between the wickets, while the bowling and fielding side tries to prevent this (by preventing the ball from leaving the field, and getting the ball to either wicket) and dismiss each batter (so they are \"out\"). Means of dismissal include being bowled, when the ball hits the stumps and dislodges the bails, and by the fielding side either catching the ball after it is hit by the bat, but before it hits the ground, or hitting a wicket with the ball before a batter can cross the crease in front of the wicket. When ten batters have been dismissed, the innings ends and the teams swap roles. The game is adjudicated by two umpires, aided by a third umpire and match referee in international matches. They communicate with two off-field scorers who record the match\\'s statistical information.\\n\\nForms of cricket range from Twenty20 (also known as T20), with each team batting for a single innings of 20 overs (each \"over\" being a set of 6 fair opportunities for the batting team to score) and the game generally lasting three to four hours, to Test matches played over five days. Traditionally cricketers play in all-white kit, but in limited overs cricket they wear club or team colours. In addition to the basic kit, some players wear protective gear to prevent injury caused by the ball, which is a hard, solid sphe', metadata={'source': 'C:\\\\Users\\\\acer\\\\OneDrive\\\\Desktop\\\\Final\\\\chatbot-llm\\\\data\\\\App\\\\file.txt'}), Document(page_content='\\nThis article is about the sport. For the insect, see Cricket (insect). For other uses, see Cricket (disambiguation).\\n\"Cricketer\" redirects here. For other uses, see Cricketer (disambiguation).\\nCricket\\n\\nShaun Pollock of South Africa bowls to Michael Hussey of Australia during the 2005 Boxing Day Test match at the Melbourne Cricket Ground\\nHighest governing body\\tInternational Cricket Council\\nFirst played\\t16th century; South East England\\nCharacteristics\\nContact\\tNo\\nTeam members\\t11 players per side (substitutes permitted in some circumstances)\\nMixed-sex\\tNo, separate competitions\\nType\\tTeam sport, Bat-and-Ball\\nEquipment\\tCricket ball, Cricket bat, Wicket (Stumps, Bails), Protective equipment\\nVenue\\tCricket field\\nGlossary\\tGlossary of cricket terms\\nPresence\\nCountry or region\\tWorldwide (most popular in the Commonwealth)\\nOlympic\\t1900 Summer Olympics\\nPart of a series on\\nCricket\\nCricket pictogram\\nWomen\\'s cricket\\nForms of cricket\\nTest cricket\\nMen\\'s formatWomen\\'s format\\nFirst-class cricket\\n\\nMen\\'s formatWomen\\'s format\\nOne Day International\\n\\nMen\\'s formatWomen\\'s format\\nLimited overs (domestic)\\n\\nLimited overs cricketList A cricket\\nTwenty20 International\\n\\nMen\\'s formatWomen\\'s format\\nTwenty20 (domestic)\\n\\nMen\\'s formatWomen\\'s format\\nOther forms\\n\\n100-ball cricketBackyard cricketBete-ombroBlind cricketClub cricketCrockerDeaf cricketFrench cricketIndoor cricket UK variantKilikitiPlaquitaSingle wicketT10 cricketTape ball cricketTennis ball cricketVigoroVillage cricket\\nInternational competitions\\nICC World Test ChampionshipICC Men\\'s Test Team RankingsCricket World CupWomen\\'s Cricket World CupICC Men\\'s T20 World CupICC Women\\'s T20 World CupICC Cricket World Cup League 2ICC Cricket World Cup Challenge LeagueEuro T20 SlamEast Africa Premier LeagueWorld Cricket League Africa Region\\nHistory of cricket\\nHistory of cricket to 1725History of cricket (1726â€“1750)History of cricket (1751â€“1775)History of cricket (1776â€“1800)History of cricket (1801â€“1825)History of women\\'s cricket\\nRecords\\nvte\\nPart of a series on\\nBowling techniques\\nFast bowling\\nSeamSwing\\nSpin bowling\\nFinger off spinleft-arm orthodox\\nWrist leg spinleft-arm unorthodox\\nFast bowler deliveries\\nBouncerInswingerKnuckle ballLeg cutterOff cutterOutswingerReverse swingSlower ballYorker\\nSpin bowler deliveries\\nArm ballCarrom ballDoosraFlipperGooglyLeg breakOff breakSliderTeesraTopspinner\\nvte\\nCricket is a bat-and-ball game played between two teams of eleven players on a field at the centre of which is a 22-yard (20-metre) pitch with a wicket at each end, each comprising two bails balanced on three stumps. The batting side scores runs by striking the ball bowled at one of the wickets with the bat and then running between the wickets, while the bowling and fielding side tries to prevent this (by preventing the ball from leaving the field, and getting the ball to either wicket) and dismiss each batter (so they are \"out\"). Means of dismissal include being bowled, when the ball hits the stumps and dislodges the bails, and by the fielding side either catching the ball after it is hit by the bat, but before it hits the ground, or hitting a wicket with the ball before a batter can cross the crease in front of the wicket. When ten batters have been dismissed, the innings ends and the teams swap roles. The game is adjudicated by two umpires, aided by a third umpire and match referee in international matches. They communicate with two off-field scorers who record the match\\'s statistical information.\\n\\nForms of cricket range from Twenty20 (also known as T20), with each team batting for a single innings of 20 overs (each \"over\" being a set of 6 fair opportunities for the batting team to score) and the game generally lasting three to four hours, to Test matches played over five days. Traditionally cricketers play in all-white kit, but in limited overs cricket they wear club or team colours. In addition to the basic kit, some players wear protective gear to prevent injury caused by the ball, which is a hard, solid sphe', metadata={'source': 'C:\\\\Users\\\\acer\\\\OneDrive\\\\Desktop\\\\Final\\\\chatbot-llm\\\\data\\\\App\\\\file.txt'}), Document(page_content='\\nThis article is about the sport. For the insect, see Cricket (insect). For other uses, see Cricket (disambiguation).\\n\"Cricketer\" redirects here. For other uses, see Cricketer (disambiguation).\\nCricket\\n\\nShaun Pollock of South Africa bowls to Michael Hussey of Australia during the 2005 Boxing Day Test match at the Melbourne Cricket Ground\\nHighest governing body\\tInternational Cricket Council\\nFirst played\\t16th century; South East England\\nCharacteristics\\nContact\\tNo\\nTeam members\\t11 players per side (substitutes permitted in some circumstances)\\nMixed-sex\\tNo, separate competitions\\nType\\tTeam sport, Bat-and-Ball\\nEquipment\\tCricket ball, Cricket bat, Wicket (Stumps, Bails), Protective equipment\\nVenue\\tCricket field\\nGlossary\\tGlossary of cricket terms\\nPresence\\nCountry or region\\tWorldwide (most popular in the Commonwealth)\\nOlympic\\t1900 Summer Olympics\\nPart of a series on\\nCricket\\nCricket pictogram\\nWomen\\'s cricket\\nForms of cricket\\nTest cricket\\nMen\\'s formatWomen\\'s format\\nFirst-class cricket\\n\\nMen\\'s formatWomen\\'s format\\nOne Day International\\n\\nMen\\'s formatWomen\\'s format\\nLimited overs (domestic)\\n\\nLimited overs cricketList A cricket\\nTwenty20 International\\n\\nMen\\'s formatWomen\\'s format\\nTwenty20 (domestic)\\n\\nMen\\'s formatWomen\\'s format\\nOther forms\\n\\n100-ball cricketBackyard cricketBete-ombroBlind cricketClub cricketCrockerDeaf cricketFrench cricketIndoor cricket UK variantKilikitiPlaquitaSingle wicketT10 cricketTape ball cricketTennis ball cricketVigoroVillage cricket\\nInternational competitions\\nICC World Test ChampionshipICC Men\\'s Test Team RankingsCricket World CupWomen\\'s Cricket World CupICC Men\\'s T20 World CupICC Women\\'s T20 World CupICC Cricket World Cup League 2ICC Cricket World Cup Challenge LeagueEuro T20 SlamEast Africa Premier LeagueWorld Cricket League Africa Region\\nHistory of cricket\\nHistory of cricket to 1725History of cricket (1726â€“1750)History of cricket (1751â€“1775)History of cricket (1776â€“1800)History of cricket (1801â€“1825)History of women\\'s cricket\\nRecords\\nvte\\nPart of a series on\\nBowling techniques\\nFast bowling\\nSeamSwing\\nSpin bowling\\nFinger off spinleft-arm orthodox\\nWrist leg spinleft-arm unorthodox\\nFast bowler deliveries\\nBouncerInswingerKnuckle ballLeg cutterOff cutterOutswingerReverse swingSlower ballYorker\\nSpin bowler deliveries\\nArm ballCarrom ballDoosraFlipperGooglyLeg breakOff breakSliderTeesraTopspinner\\nvte\\nCricket is a bat-and-ball game played between two teams of eleven players on a field at the centre of which is a 22-yard (20-metre) pitch with a wicket at each end, each comprising two bails balanced on three stumps. The batting side scores runs by striking the ball bowled at one of the wickets with the bat and then running between the wickets, while the bowling and fielding side tries to prevent this (by preventing the ball from leaving the field, and getting the ball to either wicket) and dismiss each batter (so they are \"out\"). Means of dismissal include being bowled, when the ball hits the stumps and dislodges the bails, and by the fielding side either catching the ball after it is hit by the bat, but before it hits the ground, or hitting a wicket with the ball before a batter can cross the crease in front of the wicket. When ten batters have been dismissed, the innings ends and the teams swap roles. The game is adjudicated by two umpires, aided by a third umpire and match referee in international matches. They communicate with two off-field scorers who record the match\\'s statistical information.\\n\\nForms of cricket range from Twenty20 (also known as T20), with each team batting for a single innings of 20 overs (each \"over\" being a set of 6 fair opportunities for the batting team to score) and the game generally lasting three to four hours, to Test matches played over five days. Traditionally cricketers play in all-white kit, but in limited overs cricket they wear club or team colours. In addition to the basic kit, some players wear protective gear to prevent injury caused by the ball, which is a hard, solid sphe', metadata={'source': 'C:\\\\Users\\\\acer\\\\OneDrive\\\\Desktop\\\\Final\\\\chatbot-llm\\\\data\\\\App\\\\file.txt'}), Document(page_content='\\nThis article is about the sport. For the insect, see Cricket (insect). For other uses, see Cricket (disambiguation).\\n\"Cricketer\" redirects here. For other uses, see Cricketer (disambiguation).\\nCricket\\n\\nShaun Pollock of South Africa bowls to Michael Hussey of Australia during the 2005 Boxing Day Test match at the Melbourne Cricket Ground\\nHighest governing body\\tInternational Cricket Council\\nFirst played\\t16th century; South East England\\nCharacteristics\\nContact\\tNo\\nTeam members\\t11 players per side (substitutes permitted in some circumstances)\\nMixed-sex\\tNo, separate competitions\\nType\\tTeam sport, Bat-and-Ball\\nEquipment\\tCricket ball, Cricket bat, Wicket (Stumps, Bails), Protective equipment\\nVenue\\tCricket field\\nGlossary\\tGlossary of cricket terms\\nPresence\\nCountry or region\\tWorldwide (most popular in the Commonwealth)\\nOlympic\\t1900 Summer Olympics\\nPart of a series on\\nCricket\\nCricket pictogram\\nWomen\\'s cricket\\nForms of cricket\\nTest cricket\\nMen\\'s formatWomen\\'s format\\nFirst-class cricket\\n\\nMen\\'s formatWomen\\'s format\\nOne Day International\\n\\nMen\\'s formatWomen\\'s format\\nLimited overs (domestic)\\n\\nLimited overs cricketList A cricket\\nTwenty20 International\\n\\nMen\\'s formatWomen\\'s format\\nTwenty20 (domestic)\\n\\nMen\\'s formatWomen\\'s format\\nOther forms\\n\\n100-ball cricketBackyard cricketBete-ombroBlind cricketClub cricketCrockerDeaf cricketFrench cricketIndoor cricket UK variantKilikitiPlaquitaSingle wicketT10 cricketTape ball cricketTennis ball cricketVigoroVillage cricket\\nInternational competitions\\nICC World Test ChampionshipICC Men\\'s Test Team RankingsCricket World CupWomen\\'s Cricket World CupICC Men\\'s T20 World CupICC Women\\'s T20 World CupICC Cricket World Cup League 2ICC Cricket World Cup Challenge LeagueEuro T20 SlamEast Africa Premier LeagueWorld Cricket League Africa Region\\nHistory of cricket\\nHistory of cricket to 1725History of cricket (1726â€“1750)History of cricket (1751â€“1775)History of cricket (1776â€“1800)History of cricket (1801â€“1825)History of women\\'s cricket\\nRecords\\nvte\\nPart of a series on\\nBowling techniques\\nFast bowling\\nSeamSwing\\nSpin bowling\\nFinger off spinleft-arm orthodox\\nWrist leg spinleft-arm unorthodox\\nFast bowler deliveries\\nBouncerInswingerKnuckle ballLeg cutterOff cutterOutswingerReverse swingSlower ballYorker\\nSpin bowler deliveries\\nArm ballCarrom ballDoosraFlipperGooglyLeg breakOff breakSliderTeesraTopspinner\\nvte\\nCricket is a bat-and-ball game played between two teams of eleven players on a field at the centre of which is a 22-yard (20-metre) pitch with a wicket at each end, each comprising two bails balanced on three stumps. The batting side scores runs by striking the ball bowled at one of the wickets with the bat and then running between the wickets, while the bowling and fielding side tries to prevent this (by preventing the ball from leaving the field, and getting the ball to either wicket) and dismiss each batter (so they are \"out\"). Means of dismissal include being bowled, when the ball hits the stumps and dislodges the bails, and by the fielding side either catching the ball after it is hit by the bat, but before it hits the ground, or hitting a wicket with the ball before a batter can cross the crease in front of the wicket. When ten batters have been dismissed, the innings ends and the teams swap roles. The game is adjudicated by two umpires, aided by a third umpire and match referee in international matches. They communicate with two off-field scorers who record the match\\'s statistical information.\\n\\nForms of cricket range from Twenty20 (also known as T20), with each team batting for a single innings of 20 overs (each \"over\" being a set of 6 fair opportunities for the batting team to score) and the game generally lasting three to four hours, to Test matches played over five days. Traditionally cricketers play in all-white kit, but in limited overs cricket they wear club or team colours. In addition to the basic kit, some players wear protective gear to prevent injury caused by the ball, which is a hard, solid sphe', metadata={'source': 'C:\\\\Users\\\\acer\\\\OneDrive\\\\Desktop\\\\Final\\\\chatbot-llm\\\\data\\\\App\\\\file.txt'})]}\n"
     ]
    }
   ],
   "source": [
    "chat_history = []\n",
    "query = \"what is cricket?\"\n",
    "result = qa({\"question\": query, \"chat_history\": chat_history})\n",
    "print(result)"
   ]
  },
  {
   "cell_type": "code",
   "execution_count": 37,
   "metadata": {},
   "outputs": [
    {
     "name": "stdout",
     "output_type": "stream",
     "text": [
      "Question: What is hockey?\n",
      "Answer: Hockey is a family of various types of both summer and winter team sports which originated on either an outdoor field, sheet of ice, or dry floor such as in a gymnasium. While these sports vary in specific rules, numbers of players, apparel, and playing surface, they share broad characteristics of two opposing teams using a stick to propel a ball or disk into a goal. Some games make the use of skates, either wheeled, or bladed while others do not. In order to help make the distinction between these various games, the word hockey is often preceded by another word i.e. field hockey, ice hockey, roller hockey, rink hockey, or floor hockey.\n"
     ]
    }
   ],
   "source": [
    "\n",
    "chat_history = [(query, result[\"answer\"])]\n",
    "\n",
    "query = \"What is hockey?\"\n",
    "result = qa({\"question\": query, \"chat_history\": chat_history})\n",
    "\n",
    "print(\"Question:\", query)\n",
    "print(\"Answer:\", result[\"answer\"])\n"
   ]
  },
  {
   "cell_type": "code",
   "execution_count": null,
   "metadata": {},
   "outputs": [],
   "source": []
  },
  {
   "cell_type": "code",
   "execution_count": null,
   "metadata": {},
   "outputs": [],
   "source": []
  }
 ],
 "metadata": {
  "kernelspec": {
   "display_name": "Python 3",
   "language": "python",
   "name": "python3"
  },
  "language_info": {
   "codemirror_mode": {
    "name": "ipython",
    "version": 3
   },
   "file_extension": ".py",
   "mimetype": "text/x-python",
   "name": "python",
   "nbconvert_exporter": "python",
   "pygments_lexer": "ipython3",
   "version": "3.11.4"
  },
  "orig_nbformat": 4
 },
 "nbformat": 4,
 "nbformat_minor": 2
}
